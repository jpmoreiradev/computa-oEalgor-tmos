{
  "nbformat": 4,
  "nbformat_minor": 0,
  "metadata": {
    "colab": {
      "provenance": [],
      "authorship_tag": "ABX9TyNu+56LKSprorN3fi6zjT6S",
      "include_colab_link": true
    },
    "kernelspec": {
      "name": "python3",
      "display_name": "Python 3"
    },
    "language_info": {
      "name": "python"
    }
  },
  "cells": [
    {
      "cell_type": "markdown",
      "metadata": {
        "id": "view-in-github",
        "colab_type": "text"
      },
      "source": [
        "<a href=\"https://colab.research.google.com/github/jpmoreiradev/computacaoEalgortmos/blob/main/Untitled1.ipynb\" target=\"_parent\"><img src=\"https://colab.research.google.com/assets/colab-badge.svg\" alt=\"Open In Colab\"/></a>"
      ]
    },
    {
      "cell_type": "code",
      "execution_count": 2,
      "metadata": {
        "colab": {
          "base_uri": "https://localhost:8080/"
        },
        "id": "bZOU3t20_nI5",
        "outputId": "146517e8-7975-4edf-f5ab-ba32d7452738"
      },
      "outputs": [
        {
          "output_type": "stream",
          "name": "stdout",
          "text": [
            "Hello World Colab\n"
          ]
        }
      ],
      "source": [
        "print('Hello World Colab')"
      ]
    },
    {
      "cell_type": "code",
      "source": [
        "def busca_sequencial(array, valor):\n",
        "  for i, elemento in (enumerate(array)):\n",
        "    if elemento == valor:\n",
        "      return i\n",
        "  return -1"
      ],
      "metadata": {
        "id": "2gmsS4nrG9m4"
      },
      "execution_count": 15,
      "outputs": []
    },
    {
      "cell_type": "code",
      "source": [
        "print(busca_sequencial([1, 2, 3, 4, 5, 6, 7, 8, 9, 10], 10))"
      ],
      "metadata": {
        "colab": {
          "base_uri": "https://localhost:8080/"
        },
        "id": "4rUW4OXAHQx3",
        "outputId": "8df06ee5-c61d-4f6e-9b7f-94ca75775845"
      },
      "execution_count": 16,
      "outputs": [
        {
          "output_type": "stream",
          "name": "stdout",
          "text": [
            "9\n"
          ]
        }
      ]
    }
  ]
}